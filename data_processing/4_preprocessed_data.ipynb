{
 "cells": [
  {
   "cell_type": "code",
   "execution_count": 27,
   "id": "dabb8bf7",
   "metadata": {
    "pycharm": {
     "name": "#%%\n"
    }
   },
   "outputs": [],
   "source": [
    "%config Completer.use_jedi = False\n",
    "\n"
   ]
  },
  {
   "cell_type": "code",
   "execution_count": 28,
   "id": "93c5fe33",
   "metadata": {
    "pycharm": {
     "name": "#%%\n"
    }
   },
   "outputs": [],
   "source": [
    "import json\n",
    "import pandas as pd\n",
    "import os\n",
    "from tqdm import tqdm\n",
    "import warnings\n",
    "warnings.filterwarnings(action='ignore')\n",
    "path = 'gameinfo/'\n",
    "file_list = os.listdir(path)\n",
    "file_list_py = [file for file in file_list if file.endswith('.json')]"
   ]
  },
  {
   "cell_type": "code",
   "execution_count": 29,
   "id": "34dad537",
   "metadata": {
    "pycharm": {
     "name": "#%%\n"
    }
   },
   "outputs": [
    {
     "data": {
      "text/plain": "['game_infoKR_6327029252.json',\n 'game_infoKR_6329822551.json',\n 'game_infoKR_6332277639.json',\n 'game_infoKR_6332293966.json',\n 'game_infoKR_6332341350.json',\n 'game_infoKR_6332387920.json',\n 'game_infoKR_6333812689.json',\n 'game_infoKR_6334501169.json',\n 'game_infoKR_6334530476.json',\n 'game_infoKR_6336380329.json',\n 'game_infoKR_6345930317.json',\n 'game_infoKR_6345982723.json',\n 'game_infoKR_6346924460.json',\n 'game_infoKR_6346989495.json',\n 'game_infoKR_6347052780.json',\n 'game_infoKR_6347232694.json',\n 'game_infoKR_6347357284.json',\n 'game_infoKR_6348051830.json',\n 'game_infoKR_6348052854.json',\n 'game_infoKR_6348055147.json',\n 'game_infoKR_6348064454.json',\n 'game_infoKR_6348070874.json',\n 'game_infoKR_6348088626.json',\n 'game_infoKR_6348111896.json',\n 'game_infoKR_6348146700.json',\n 'game_infoKR_6348446336.json',\n 'game_infoKR_6348477747.json',\n 'game_infoKR_6348521865.json',\n 'game_infoKR_6352634296.json',\n 'game_infoKR_6352651511.json',\n 'game_infoKR_6354156177.json',\n 'game_infoKR_6354185479.json',\n 'game_infoKR_6354603178.json',\n 'game_infoKR_6354629704.json',\n 'game_infoKR_6358854905.json',\n 'game_infoKR_6359773836.json',\n 'game_infoKR_6359826044.json',\n 'game_infoKR_6359858705.json',\n 'game_infoKR_6359902344.json',\n 'game_infoKR_6359972980.json',\n 'game_infoKR_6360004495.json',\n 'game_infoKR_6360502030.json',\n 'game_infoKR_6360802839.json',\n 'game_infoKR_6361527612.json',\n 'game_infoKR_6362931367.json',\n 'game_infoKR_6362989497.json',\n 'game_infoKR_6363025689.json',\n 'game_infoKR_6366748390.json',\n 'game_infoKR_6366787668.json',\n 'game_infoKR_6366846918.json',\n 'game_infoKR_6367776875.json',\n 'game_infoKR_6367809414.json',\n 'game_infoKR_6367825877.json',\n 'game_infoKR_6367866099.json',\n 'game_infoKR_6367878060.json',\n 'game_infoKR_6367879522.json',\n 'game_infoKR_6369009325.json',\n 'game_infoKR_6369143819.json',\n 'game_infoKR_6369252076.json',\n 'game_infoKR_6369421615.json',\n 'game_infoKR_6369481010.json',\n 'game_infoKR_6369902121.json',\n 'game_infoKR_6370058110.json',\n 'game_infoKR_6370328275.json',\n 'game_infoKR_6370388009.json',\n 'game_infoKR_6370466031.json',\n 'game_infoKR_6370517258.json',\n 'game_infoKR_6370661949.json',\n 'game_infoKR_6371364861.json',\n 'game_infoKR_6371389685.json',\n 'game_infoKR_6371476998.json',\n 'game_infoKR_6371526830.json',\n 'game_infoKR_6371916388.json',\n 'game_infoKR_6371988166.json',\n 'game_infoKR_6372024631.json',\n 'game_infoKR_6372090440.json',\n 'game_infoKR_6372127960.json',\n 'game_infoKR_6372668262.json',\n 'game_infoKR_6372684326.json',\n 'game_infoKR_6372787329.json',\n 'game_infoKR_6372832629.json',\n 'game_infoKR_6373361132.json',\n 'game_infoKR_6373398271.json',\n 'game_infoKR_6373424961.json',\n 'game_infoKR_6373456616.json',\n 'game_infoKR_6373529760.json',\n 'game_infoKR_6373595054.json',\n 'game_infoKR_6373623821.json',\n 'game_infoKR_6373624916.json',\n 'game_infoKR_6373671511.json',\n 'game_infoKR_6373917462.json',\n 'game_infoKR_6374252193.json',\n 'game_infoKR_6374353028.json',\n 'game_infoKR_6374427387.json',\n 'game_infoKR_6374669332.json',\n 'game_infoKR_6374676771.json',\n 'game_infoKR_6374689984.json',\n 'game_infoKR_6374690377.json',\n 'game_infoKR_6374701022.json',\n 'game_infoKR_6374712033.json',\n 'game_infoKR_6374712662.json',\n 'game_infoKR_6374733916.json',\n 'game_infoKR_6374755548.json',\n 'game_infoKR_6374774391.json',\n 'game_infoKR_6375392825.json',\n 'game_infoKR_6375481532.json',\n 'game_infoKR_6375752103.json',\n 'game_infoKR_6376096199.json',\n 'game_infoKR_6376204322.json',\n 'game_infoKR_6376216908.json',\n 'game_infoKR_6376228462.json',\n 'game_infoKR_6376229300.json',\n 'game_infoKR_6376254030.json',\n 'game_infoKR_6376263516.json',\n 'game_infoKR_6376292144.json',\n 'game_infoKR_6376340835.json',\n 'game_infoKR_6376371489.json',\n 'game_infoKR_6376414072.json',\n 'game_infoKR_6376661457.json',\n 'game_infoKR_6376792307.json',\n 'game_infoKR_6377116592.json',\n 'game_infoKR_6377180996.json',\n 'game_infoKR_6377250248.json',\n 'game_infoKR_6377309040.json',\n 'game_infoKR_6377612363.json',\n 'game_infoKR_6377619096.json',\n 'game_infoKR_6377951551.json',\n 'game_infoKR_6378011089.json',\n 'game_infoKR_6378049410.json',\n 'game_infoKR_6378104184.json',\n 'game_infoKR_6378132209.json',\n 'game_infoKR_6378164495.json',\n 'game_infoKR_6378200265.json',\n 'game_infoKR_6378211095.json',\n 'game_infoKR_6378250733.json',\n 'game_infoKR_6378305333.json',\n 'game_infoKR_6378663634.json',\n 'game_infoKR_6378736661.json',\n 'game_infoKR_6378898336.json',\n 'game_infoKR_6378955813.json',\n 'game_infoKR_6379008778.json',\n 'game_infoKR_6379064141.json',\n 'game_infoKR_6379098495.json',\n 'game_infoKR_6379455148.json',\n 'game_infoKR_6379491535.json',\n 'game_infoKR_6379527236.json',\n 'game_infoKR_6379550553.json',\n 'game_infoKR_6379583601.json',\n 'game_infoKR_6379601110.json',\n 'game_infoKR_6379657561.json',\n 'game_infoKR_6379712739.json',\n 'game_infoKR_6379761671.json',\n 'game_infoKR_6380293302.json',\n 'game_infoKR_6380656866.json',\n 'game_infoKR_6380752899.json',\n 'game_infoKR_6380972031.json',\n 'game_infoKR_6381057233.json',\n 'game_infoKR_6381067063.json',\n 'game_infoKR_6381174338.json',\n 'game_infoKR_6381332833.json',\n 'game_infoKR_6381374757.json',\n 'game_infoKR_6381447077.json',\n 'game_infoKR_6381504422.json',\n 'game_infoKR_6381506584.json',\n 'game_infoKR_6381553415.json',\n 'game_infoKR_6381639306.json',\n 'game_infoKR_6381701779.json',\n 'game_infoKR_6381729310.json',\n 'game_infoKR_6381749737.json',\n 'game_infoKR_6381765513.json',\n 'game_infoKR_6381827263.json',\n 'game_infoKR_6381896477.json',\n 'game_infoKR_6381927536.json',\n 'game_infoKR_6381965195.json',\n 'game_infoKR_6382003140.json',\n 'game_infoKR_6382128448.json',\n 'game_infoKR_6382139670.json',\n 'game_infoKR_6382205027.json',\n 'game_infoKR_6382217628.json',\n 'game_infoKR_6382222167.json',\n 'game_infoKR_6382251678.json',\n 'game_infoKR_6382303745.json',\n 'game_infoKR_6382394152.json',\n 'game_infoKR_6382454504.json',\n 'game_infoKR_6382474001.json',\n 'game_infoKR_6382481086.json',\n 'game_infoKR_6382532575.json',\n 'game_infoKR_6382578774.json',\n 'game_infoKR_6382593410.json',\n 'game_infoKR_6382624221.json',\n 'game_infoKR_6382642042.json',\n 'game_infoKR_6382649420.json',\n 'game_infoKR_6382678572.json',\n 'game_infoKR_6382682467.json',\n 'game_infoKR_6382719835.json',\n 'game_infoKR_6382771221.json',\n 'game_infoKR_6383006697.json',\n 'game_infoKR_6383030917.json',\n 'game_infoKR_6383047500.json',\n 'game_infoKR_6383062382.json',\n 'game_infoKR_6383080315.json',\n 'game_infoKR_6383198184.json',\n 'game_infoKR_6383223720.json',\n 'game_infoKR_6383282853.json',\n 'game_infoKR_6383322168.json',\n 'game_infoKR_6383362466.json',\n 'game_infoKR_6383463376.json',\n 'game_infoKR_6383464752.json',\n 'game_infoKR_6383482710.json',\n 'game_infoKR_6383516978.json',\n 'game_infoKR_6383534704.json',\n 'game_infoKR_6383575279.json',\n 'game_infoKR_6383575802.json',\n 'game_infoKR_6383808237.json',\n 'game_infoKR_6383861366.json',\n 'game_infoKR_6383881893.json',\n 'game_infoKR_6383954139.json',\n 'game_infoKR_6384181153.json',\n 'game_infoKR_6384221152.json',\n 'game_infoKR_6384247451.json',\n 'game_infoKR_6384289346.json',\n 'game_infoKR_6384307147.json',\n 'game_infoKR_6384317496.json',\n 'game_infoKR_6384318259.json',\n 'game_infoKR_6384327481.json',\n 'game_infoKR_6384329979.json',\n 'game_infoKR_6384345467.json',\n 'game_infoKR_6384348473.json',\n 'game_infoKR_6384349888.json',\n 'game_infoKR_6384381276.json',\n 'game_infoKR_6384397230.json',\n 'game_infoKR_6384410217.json',\n 'game_infoKR_6384507067.json',\n 'game_infoKR_6384671426.json',\n 'game_infoKR_6384682148.json',\n 'game_infoKR_6384712453.json',\n 'game_infoKR_6384712738.json',\n 'game_infoKR_6384754393.json',\n 'game_infoKR_6384964708.json',\n 'game_infoKR_6385026900.json',\n 'game_infoKR_6385064363.json',\n 'game_infoKR_6385066558.json',\n 'game_infoKR_6385094525.json',\n 'game_infoKR_6385156133.json',\n 'game_infoKR_6385187352.json',\n 'game_infoKR_6385226091.json',\n 'game_infoKR_6385265575.json',\n 'game_infoKR_6385287397.json',\n 'game_infoKR_6385353235.json',\n 'game_infoKR_6385478918.json',\n 'game_infoKR_6385600327.json',\n 'game_infoKR_6385606840.json',\n 'game_infoKR_6385705495.json',\n 'game_infoKR_6385771423.json',\n 'game_infoKR_6385810783.json',\n 'game_infoKR_6385814734.json',\n 'game_infoKR_6385877394.json',\n 'game_infoKR_6385908462.json',\n 'game_infoKR_6385924827.json',\n 'game_infoKR_6385965403.json',\n 'game_infoKR_6386105671.json',\n 'game_infoKR_6386135832.json',\n 'game_infoKR_6386156622.json',\n 'game_infoKR_6386196225.json',\n 'game_infoKR_6386310313.json',\n 'game_infoKR_6386365675.json',\n 'game_infoKR_6386427138.json',\n 'game_infoKR_6386466577.json',\n 'game_infoKR_6386476399.json',\n 'game_infoKR_6386479802.json',\n 'game_infoKR_6386510443.json',\n 'game_infoKR_6386521653.json',\n 'game_infoKR_6386552193.json',\n 'game_infoKR_6386688008.json',\n 'game_infoKR_6386702732.json',\n 'game_infoKR_6386747768.json',\n 'game_infoKR_6386752733.json',\n 'game_infoKR_6386829240.json',\n 'game_infoKR_6386839372.json',\n 'game_infoKR_6386871941.json',\n 'game_infoKR_6386873799.json',\n 'game_infoKR_6386915944.json',\n 'game_infoKR_6386926635.json',\n 'game_infoKR_6386959434.json',\n 'game_infoKR_6386959800.json',\n 'game_infoKR_6386969608.json',\n 'game_infoKR_6386981698.json',\n 'game_infoKR_6387010346.json',\n 'game_infoKR_6387046396.json',\n 'game_infoKR_6387090443.json',\n 'game_infoKR_6387116524.json',\n 'game_infoKR_6387156094.json',\n 'game_infoKR_6387212011.json',\n 'game_infoKR_6387215307.json',\n 'game_infoKR_6387226254.json',\n 'game_infoKR_6387285893.json',\n 'game_infoKR_6387315487.json',\n 'game_infoKR_6387369339.json',\n 'game_infoKR_6387372683.json',\n 'game_infoKR_6387374187.json',\n 'game_infoKR_6387391040.json',\n 'game_infoKR_6387662063.json',\n 'game_infoKR_6387669038.json',\n 'game_infoKR_6387732387.json',\n 'game_infoKR_6387810998.json',\n 'game_infoKR_6387873841.json',\n 'game_infoKR_6388010731.json',\n 'game_infoKR_6388012410.json',\n 'game_infoKR_6388035772.json',\n 'game_infoKR_6388064077.json',\n 'game_infoKR_6388073204.json',\n 'game_infoKR_6388074841.json',\n 'game_infoKR_6388086861.json',\n 'game_infoKR_6388096718.json',\n 'game_infoKR_6388165812.json',\n 'game_infoKR_6388170828.json',\n 'game_infoKR_6388200886.json',\n 'game_infoKR_6388218253.json',\n 'game_infoKR_6388288498.json',\n 'game_infoKR_6388338815.json',\n 'game_infoKR_6388344219.json',\n 'game_infoKR_6388386121.json',\n 'game_infoKR_6388440791.json',\n 'game_infoKR_6388468829.json',\n 'game_infoKR_6388539250.json',\n 'game_infoKR_6388572118.json',\n 'game_infoKR_6388587176.json',\n 'game_infoKR_6388682853.json',\n 'game_infoKR_6388797487.json',\n 'game_infoKR_6388814749.json',\n 'game_infoKR_6388824313.json',\n 'game_infoKR_6388829565.json',\n 'game_infoKR_6388833806.json',\n 'game_infoKR_6388834738.json',\n 'game_infoKR_6388838167.json',\n 'game_infoKR_6388934953.json',\n 'game_infoKR_6389123871.json',\n 'game_infoKR_6389300266.json',\n 'game_infoKR_6389316349.json',\n 'game_infoKR_6389372421.json',\n 'game_infoKR_6389403042.json',\n 'game_infoKR_6389589509.json',\n 'game_infoKR_6389638403.json',\n 'game_infoKR_6389677914.json',\n 'game_infoKR_6389685942.json',\n 'game_infoKR_6389719482.json',\n 'game_infoKR_6389791105.json',\n 'game_infoKR_6389859505.json',\n 'game_infoKR_6390025532.json',\n 'game_infoKR_6390142583.json',\n 'game_infoKR_6390179510.json',\n 'game_infoKR_6390208619.json',\n 'game_infoKR_6390222119.json',\n 'game_infoKR_6390229423.json',\n 'game_infoKR_6390230836.json',\n 'game_infoKR_6390251209.json',\n 'game_infoKR_6390255404.json',\n 'game_infoKR_6390267301.json',\n 'game_infoKR_6390282036.json',\n 'game_infoKR_6390304833.json',\n 'game_infoKR_6390320790.json',\n 'game_infoKR_6390353980.json',\n 'game_infoKR_6390369693.json',\n 'game_infoKR_6390591938.json',\n 'game_infoKR_6390632970.json',\n 'game_infoKR_6390643668.json',\n 'game_infoKR_6390697586.json',\n 'game_infoKR_6390742003.json',\n 'game_infoKR_6391080139.json',\n 'game_infoKR_6391115382.json',\n 'game_infoKR_6391250788.json',\n 'game_infoKR_6391274619.json',\n 'game_infoKR_6391345067.json',\n 'game_infoKR_6391351914.json',\n 'game_infoKR_6391428946.json',\n 'game_infoKR_6391506762.json',\n 'game_infoKR_6391535188.json',\n 'game_infoKR_6391569853.json',\n 'game_infoKR_6391609927.json',\n 'game_infoKR_6391653040.json',\n 'game_infoKR_6391683618.json',\n 'game_infoKR_6391765461.json',\n 'game_infoKR_6391869188.json',\n 'game_infoKR_6391969975.json',\n 'game_infoKR_6392075011.json',\n 'game_infoKR_6392151126.json',\n 'game_infoKR_6392172866.json',\n 'game_infoKR_6392406076.json',\n 'game_infoKR_6392413001.json',\n 'game_infoKR_6392459368.json',\n 'game_infoKR_6392503383.json',\n 'game_infoKR_6392526281.json',\n 'game_infoKR_6392542757.json',\n 'game_infoKR_6392615196.json',\n 'game_infoKR_6392633865.json',\n 'game_infoKR_6392663851.json',\n 'game_infoKR_6392720910.json',\n 'game_infoKR_6392745031.json',\n 'game_infoKR_6392754202.json',\n 'game_infoKR_6392815555.json',\n 'game_infoKR_6392838547.json',\n 'game_infoKR_6392841436.json',\n 'game_infoKR_6392878814.json',\n 'game_infoKR_6392885723.json',\n 'game_infoKR_6392963312.json',\n 'game_infoKR_6393060948.json',\n 'game_infoKR_6393070513.json',\n 'game_infoKR_6393117836.json',\n 'game_infoKR_6393153249.json',\n 'game_infoKR_6393160907.json',\n 'game_infoKR_6393222772.json',\n 'game_infoKR_6393318721.json',\n 'game_infoKR_6393389643.json',\n 'game_infoKR_6393420335.json',\n 'game_infoKR_6393450155.json',\n 'game_infoKR_6393454150.json',\n 'game_infoKR_6393465283.json',\n 'game_infoKR_6393492818.json',\n 'game_infoKR_6393492843.json',\n 'game_infoKR_6393512102.json',\n 'game_infoKR_6393522763.json',\n 'game_infoKR_6393538348.json',\n 'game_infoKR_6393555856.json',\n 'game_infoKR_6393577040.json',\n 'game_infoKR_6393586542.json',\n 'game_infoKR_6393600142.json',\n 'game_infoKR_6393628277.json',\n 'game_infoKR_6393653179.json',\n 'game_infoKR_6393725919.json',\n 'game_infoKR_6393754738.json',\n 'game_infoKR_6393786631.json',\n 'game_infoKR_6393799910.json',\n 'game_infoKR_6393809866.json',\n 'game_infoKR_6393822641.json',\n 'game_infoKR_6393872356.json',\n 'game_infoKR_6393878642.json',\n 'game_infoKR_6393882632.json',\n 'game_infoKR_6393886818.json',\n 'game_infoKR_6393892760.json',\n 'game_infoKR_6393908033.json',\n 'game_infoKR_6393964360.json',\n 'game_infoKR_6393987575.json',\n 'game_infoKR_6393999649.json',\n 'game_infoKR_6394013646.json',\n 'game_infoKR_6394019348.json',\n 'game_infoKR_6394029675.json',\n 'game_infoKR_6394033070.json',\n 'game_infoKR_6394035263.json',\n 'game_infoKR_6394042355.json',\n 'game_infoKR_6394042867.json',\n 'game_infoKR_6394044585.json',\n 'game_infoKR_6394057829.json',\n 'game_infoKR_6394062730.json',\n 'game_infoKR_6394073186.json',\n 'game_infoKR_6394091424.json',\n 'game_infoKR_6394098411.json',\n 'game_infoKR_6394098437.json',\n 'game_infoKR_6394101016.json',\n 'game_infoKR_6394116913.json',\n 'game_infoKR_6394122996.json',\n 'game_infoKR_6394129779.json',\n 'game_infoKR_6394130677.json',\n 'game_infoKR_6394180275.json',\n 'game_infoKR_6394289710.json',\n 'game_infoKR_6394324500.json',\n 'game_infoKR_6394332905.json',\n 'game_infoKR_6394339414.json',\n 'game_infoKR_6394356383.json',\n 'game_infoKR_6394369686.json',\n 'game_infoKR_6394372522.json',\n 'game_infoKR_6394387622.json',\n 'game_infoKR_6394428806.json',\n 'game_infoKR_6394452844.json',\n 'game_infoKR_6394467894.json',\n 'game_infoKR_6394481923.json',\n 'game_infoKR_6394545102.json',\n 'game_infoKR_6394545406.json',\n 'game_infoKR_6394570586.json',\n 'game_infoKR_6394576794.json',\n 'game_infoKR_6394606961.json',\n 'game_infoKR_6394615570.json',\n 'game_infoKR_6394636078.json',\n 'game_infoKR_6394682218.json',\n 'game_infoKR_6394683420.json',\n 'game_infoKR_6394700006.json',\n 'game_infoKR_6394726342.json',\n 'game_infoKR_6394736426.json',\n 'game_infoKR_6394738672.json',\n 'game_infoKR_6394743476.json',\n 'game_infoKR_6394765823.json',\n 'game_infoKR_6394780563.json',\n 'game_infoKR_6394789086.json',\n 'game_infoKR_6394816409.json',\n 'game_infoKR_6394844828.json',\n 'game_infoKR_6394854165.json',\n 'game_infoKR_6394868835.json',\n 'game_infoKR_6394871945.json',\n 'game_infoKR_6394890309.json',\n 'game_infoKR_6394905839.json',\n 'game_infoKR_6394912125.json',\n 'game_infoKR_6394913863.json',\n 'game_infoKR_6394913936.json',\n 'game_infoKR_6394935318.json',\n 'game_infoKR_6394949277.json',\n 'game_infoKR_6394953926.json',\n 'game_infoKR_6394967804.json',\n 'game_infoKR_6394969947.json',\n 'game_infoKR_6394976322.json',\n 'game_infoKR_6394979268.json',\n 'game_infoKR_6394980611.json',\n 'game_infoKR_6394982317.json',\n 'game_infoKR_6394982878.json',\n 'game_infoKR_6394988847.json',\n 'game_infoKR_6394989216.json',\n 'game_infoKR_6394993946.json',\n 'game_infoKR_6394996571.json',\n 'game_infoKR_6395003769.json',\n 'game_infoKR_6395005558.json',\n 'game_infoKR_6395025303.json',\n 'game_infoKR_6395034118.json',\n 'game_infoKR_6395047789.json',\n 'game_infoKR_6395064495.json',\n 'game_infoKR_6395095935.json',\n 'game_infoKR_6395143649.json',\n 'game_infoKR_6395156969.json',\n 'game_infoKR_6395157299.json',\n 'game_infoKR_6395184292.json',\n 'game_infoKR_6395188282.json',\n 'game_infoKR_6395194344.json',\n 'game_infoKR_6395206883.json',\n 'game_infoKR_6395227657.json',\n 'game_infoKR_6395249587.json',\n 'game_infoKR_6395302719.json',\n 'game_infoKR_6395308003.json',\n 'game_infoKR_6395312631.json',\n 'game_infoKR_6395326731.json',\n 'game_infoKR_6395335241.json',\n 'game_infoKR_6395352996.json',\n 'game_infoKR_6395358781.json',\n 'game_infoKR_6395384746.json',\n 'game_infoKR_6395418745.json',\n 'game_infoKR_6395457645.json',\n 'game_infoKR_6395474683.json',\n 'game_infoKR_6395483799.json',\n 'game_infoKR_6395505327.json',\n 'game_infoKR_6395624977.json',\n 'game_infoKR_6395679547.json',\n 'game_infoKR_6395765269.json',\n 'game_infoKR_6395773575.json',\n 'game_infoKR_6395788531.json',\n 'game_infoKR_6395809474.json',\n 'game_infoKR_6395836075.json',\n 'game_infoKR_6395919065.json',\n 'game_infoKR_6395937827.json',\n 'game_infoKR_6395940847.json',\n 'game_infoKR_6395986608.json',\n 'game_infoKR_6395997480.json',\n 'game_infoKR_6396025491.json',\n 'game_infoKR_6396032857.json',\n 'game_infoKR_6396059732.json',\n 'game_infoKR_6396070855.json',\n 'game_infoKR_6396074059.json',\n 'game_infoKR_6396078142.json',\n 'game_infoKR_6396094410.json',\n 'game_infoKR_6396109639.json',\n 'game_infoKR_6396128848.json',\n 'game_infoKR_6396130633.json',\n 'game_infoKR_6396160532.json',\n 'game_infoKR_6396181162.json',\n 'game_infoKR_6396253947.json',\n 'game_infoKR_6396266693.json',\n 'game_infoKR_6396282543.json',\n 'game_infoKR_6396368859.json',\n 'game_infoKR_6396369175.json',\n 'game_infoKR_6396379218.json',\n 'game_infoKR_6396386212.json',\n 'game_infoKR_6396402635.json',\n 'game_infoKR_6396424861.json',\n 'game_infoKR_6396472439.json',\n 'game_infoKR_6396486183.json',\n 'game_infoKR_6396548764.json',\n 'game_infoKR_6396571280.json',\n 'game_infoKR_6396571979.json',\n 'game_infoKR_6396588418.json',\n 'game_infoKR_6396590079.json',\n 'game_infoKR_6396605831.json',\n 'game_infoKR_6396607495.json',\n 'game_infoKR_6396608761.json',\n 'game_infoKR_6396616299.json',\n 'game_infoKR_6396641830.json',\n 'game_infoKR_6396644681.json',\n 'game_infoKR_6396680959.json',\n 'game_infoKR_6396695337.json',\n 'game_infoKR_6396705158.json',\n 'game_infoKR_6396732024.json',\n 'game_infoKR_6396756006.json',\n 'game_infoKR_6396759327.json',\n 'game_infoKR_6396776164.json',\n 'game_infoKR_6396796810.json',\n 'game_infoKR_6396869053.json',\n 'game_infoKR_6396904748.json',\n 'game_infoKR_6396929699.json',\n 'game_infoKR_6397007768.json',\n 'game_infoKR_6397065557.json',\n 'game_infoKR_6397075849.json',\n 'game_infoKR_6397088049.json',\n 'game_infoKR_6397112723.json',\n 'game_infoKR_6397125175.json',\n 'game_infoKR_6397179469.json',\n 'game_infoKR_6397193991.json',\n 'game_infoKR_6397300342.json',\n 'game_infoKR_6397313108.json',\n 'game_infoKR_6397322435.json',\n 'game_infoKR_6397336292.json',\n 'game_infoKR_6397346084.json',\n 'game_infoKR_6397349472.json',\n 'game_infoKR_6397356201.json',\n 'game_infoKR_6397370320.json',\n 'game_infoKR_6397371356.json',\n 'game_infoKR_6397372885.json',\n 'game_infoKR_6397374228.json',\n 'game_infoKR_6397424637.json',\n 'game_infoKR_6397424683.json',\n 'game_infoKR_6397432608.json',\n 'game_infoKR_6397435920.json',\n 'game_infoKR_6397436371.json',\n 'game_infoKR_6397463013.json',\n 'game_infoKR_6397473658.json',\n 'game_infoKR_6397476477.json',\n 'game_infoKR_6397541630.json',\n 'game_infoKR_6397550425.json',\n 'game_infoKR_6397551052.json',\n 'game_infoKR_6397555071.json',\n 'game_infoKR_6397570027.json',\n 'game_infoKR_6397574723.json',\n 'game_infoKR_6397622045.json',\n 'game_infoKR_6397629046.json',\n 'game_infoKR_6397629504.json',\n 'game_infoKR_6397648476.json',\n 'game_infoKR_6397653266.json',\n 'game_infoKR_6397653617.json',\n 'game_infoKR_6397656136.json',\n 'game_infoKR_6397673850.json',\n 'game_infoKR_6397677931.json',\n 'game_infoKR_6397681794.json',\n 'game_infoKR_6397690668.json',\n 'game_infoKR_6397714664.json',\n 'game_infoKR_6397714991.json',\n 'game_infoKR_6397760914.json',\n 'game_infoKR_6397761183.json',\n 'game_infoKR_6397769149.json',\n 'game_infoKR_6397818147.json',\n 'game_infoKR_6397844961.json',\n 'game_infoKR_6397861839.json',\n 'game_infoKR_6397862130.json',\n 'game_infoKR_6397912967.json',\n 'game_infoKR_6397937583.json',\n 'game_infoKR_6397973116.json',\n 'game_infoKR_6397977066.json',\n 'game_infoKR_6397985735.json',\n 'game_infoKR_6397990945.json',\n 'game_infoKR_6398007946.json',\n 'game_infoKR_6398036292.json',\n 'game_infoKR_6398043757.json',\n 'game_infoKR_6398056581.json',\n 'game_infoKR_6398068409.json',\n 'game_infoKR_6398088524.json',\n 'game_infoKR_6398126766.json',\n 'game_infoKR_6398131353.json',\n 'game_infoKR_6398150694.json',\n 'game_infoKR_6398166599.json',\n 'game_infoKR_6398184875.json',\n 'game_infoKR_6398233164.json',\n 'game_infoKR_6398238730.json',\n 'game_infoKR_6398239411.json',\n 'game_infoKR_6398306100.json',\n 'game_infoKR_6398306339.json',\n 'game_infoKR_6398310223.json',\n 'game_infoKR_6398326679.json',\n 'game_infoKR_6398337667.json',\n 'game_infoKR_6398346166.json',\n 'game_infoKR_6398362232.json',\n 'game_infoKR_6398371248.json',\n 'game_infoKR_6398376827.json',\n 'game_infoKR_6398387958.json',\n 'game_infoKR_6398393192.json',\n 'game_infoKR_6398402493.json',\n 'game_infoKR_6398417269.json',\n 'game_infoKR_6398437756.json',\n 'game_infoKR_6398447938.json',\n 'game_infoKR_6398456052.json',\n 'game_infoKR_6398459779.json',\n 'game_infoKR_6398475039.json',\n 'game_infoKR_6398475251.json',\n 'game_infoKR_6398476302.json',\n 'game_infoKR_6398485967.json',\n 'game_infoKR_6398486989.json',\n 'game_infoKR_6398493428.json',\n 'game_infoKR_6398507253.json',\n 'game_infoKR_6398513163.json',\n 'game_infoKR_6398515345.json',\n 'game_infoKR_6398519096.json',\n 'game_infoKR_6398519663.json',\n 'game_infoKR_6398530507.json',\n 'game_infoKR_6398530763.json',\n 'game_infoKR_6398532709.json',\n 'game_infoKR_6398598000.json',\n 'game_infoKR_6398603094.json',\n 'game_infoKR_6398627519.json',\n 'game_infoKR_6398658002.json',\n 'game_infoKR_6398684143.json',\n 'game_infoKR_6398694028.json',\n 'game_infoKR_6398699120.json',\n 'game_infoKR_6398702463.json',\n 'game_infoKR_6398704238.json',\n 'game_infoKR_6398720826.json',\n 'game_infoKR_6398727023.json',\n 'game_infoKR_6398727400.json',\n 'game_infoKR_6398760185.json',\n 'game_infoKR_6398761733.json',\n 'game_infoKR_6398791348.json',\n 'game_infoKR_6398797332.json',\n 'game_infoKR_6398862794.json',\n 'game_infoKR_6398891615.json',\n 'game_infoKR_6398942647.json',\n 'game_infoKR_6398975864.json',\n 'game_infoKR_6399014528.json',\n 'game_infoKR_6399027903.json',\n 'game_infoKR_6399058190.json',\n 'game_infoKR_6399097714.json',\n 'game_infoKR_6399106007.json',\n 'game_infoKR_6399129873.json',\n 'game_infoKR_6399138542.json',\n 'game_infoKR_6399173295.json',\n 'game_infoKR_6399177324.json',\n 'game_infoKR_6399180653.json',\n 'game_infoKR_6399216964.json',\n 'game_infoKR_6399226433.json',\n 'game_infoKR_6399232273.json',\n 'game_infoKR_6399235029.json',\n 'game_infoKR_6399256103.json',\n 'game_infoKR_6399270821.json',\n 'game_infoKR_6399319932.json',\n 'game_infoKR_6399347659.json',\n 'game_infoKR_6399378153.json',\n 'game_infoKR_6399385365.json',\n 'game_infoKR_6399389385.json',\n 'game_infoKR_6399418326.json',\n 'game_infoKR_6399465084.json',\n 'game_infoKR_6399510509.json',\n 'game_infoKR_6399517289.json',\n 'game_infoKR_6399537295.json',\n 'game_infoKR_6399592084.json',\n 'game_infoKR_6399593292.json',\n 'game_infoKR_6399594608.json',\n 'game_infoKR_6399621875.json',\n 'game_infoKR_6399655139.json',\n 'game_infoKR_6399659337.json',\n 'game_infoKR_6399675729.json',\n 'game_infoKR_6399688346.json',\n 'game_infoKR_6399716530.json',\n 'game_infoKR_6399718853.json',\n 'game_infoKR_6399747787.json',\n 'game_infoKR_6399751279.json',\n 'game_infoKR_6399763270.json',\n 'game_infoKR_6399780709.json',\n 'game_infoKR_6399800689.json',\n 'game_infoKR_6399803412.json',\n 'game_infoKR_6399830835.json',\n 'game_infoKR_6399834596.json',\n 'game_infoKR_6399886193.json',\n 'game_infoKR_6399916545.json',\n 'game_infoKR_6399943068.json',\n 'game_infoKR_6399952254.json',\n 'game_infoKR_6399953241.json',\n 'game_infoKR_6399954776.json',\n 'game_infoKR_6399959367.json',\n 'game_infoKR_6399964656.json',\n 'game_infoKR_6400031911.json',\n 'game_infoKR_6400049434.json',\n 'game_infoKR_6400076173.json',\n 'game_infoKR_6400100650.json',\n 'game_infoKR_6400135328.json',\n 'game_infoKR_6400151203.json',\n 'game_infoKR_6400155168.json',\n 'game_infoKR_6400179470.json',\n 'game_infoKR_6400193128.json',\n 'game_infoKR_6400207816.json',\n 'game_infoKR_6400229962.json',\n 'game_infoKR_6400261226.json',\n 'game_infoKR_6400268968.json',\n 'game_infoKR_6400278750.json',\n 'game_infoKR_6400280219.json',\n 'game_infoKR_6400282559.json',\n 'game_infoKR_6400299661.json',\n 'game_infoKR_6400302011.json',\n 'game_infoKR_6400305956.json',\n 'game_infoKR_6400339598.json',\n 'game_infoKR_6400365177.json',\n 'game_infoKR_6400366893.json',\n 'game_infoKR_6400419595.json',\n 'game_infoKR_6400428000.json',\n 'game_infoKR_6400430817.json',\n 'game_infoKR_6400442547.json',\n 'game_infoKR_6400449999.json',\n 'game_infoKR_6400462729.json',\n 'game_infoKR_6400494701.json',\n 'game_infoKR_6400505060.json',\n 'game_infoKR_6400537473.json',\n 'game_infoKR_6400563174.json',\n 'game_infoKR_6400590448.json',\n 'game_infoKR_6400606140.json',\n 'game_infoKR_6400761157.json',\n 'game_infoKR_6400766876.json',\n 'game_infoKR_6400782776.json',\n 'game_infoKR_6400786836.json',\n 'game_infoKR_6400823339.json',\n 'game_infoKR_6400827181.json',\n 'game_infoKR_6400861849.json',\n 'game_infoKR_6400863769.json',\n 'game_infoKR_6400878672.json',\n 'game_infoKR_6400914812.json',\n 'game_infoKR_6400920378.json',\n 'game_infoKR_6400925195.json',\n 'game_infoKR_6400963691.json',\n 'game_infoKR_6400980038.json',\n 'game_infoKR_6401003246.json',\n 'game_infoKR_6401063419.json',\n 'game_infoKR_6401094651.json',\n 'game_infoKR_6401150282.json',\n 'game_infoKR_6401174298.json',\n 'game_infoKR_6401182000.json',\n 'game_infoKR_6401212052.json',\n 'game_infoKR_6401264486.json',\n 'game_infoKR_6401268455.json',\n 'game_infoKR_6401295693.json',\n 'game_infoKR_6401375205.json',\n 'game_infoKR_6401392057.json',\n 'game_infoKR_6401445741.json',\n 'game_infoKR_6401503994.json',\n 'game_infoKR_6401511610.json',\n 'game_infoKR_6401515086.json',\n 'game_infoKR_6401523871.json',\n 'game_infoKR_6401529464.json',\n 'game_infoKR_6401608082.json',\n 'game_infoKR_6401621895.json',\n 'game_infoKR_6401648292.json',\n 'game_infoKR_6401676683.json',\n 'game_infoKR_6401684856.json',\n 'game_infoKR_6401707335.json',\n 'game_infoKR_6401719018.json',\n 'game_infoKR_6401740672.json',\n 'game_infoKR_6401746500.json',\n 'game_infoKR_6401758866.json',\n 'game_infoKR_6401775004.json',\n 'game_infoKR_6401775389.json',\n 'game_infoKR_6401923621.json',\n 'game_infoKR_6401936362.json',\n 'game_infoKR_6401965167.json',\n 'game_infoKR_6401971553.json',\n 'game_infoKR_6401989119.json',\n 'game_infoKR_6401990051.json',\n 'game_infoKR_6402002003.json',\n 'game_infoKR_6402008809.json',\n 'game_infoKR_6402013561.json',\n 'game_infoKR_6402015854.json',\n 'game_infoKR_6402027642.json',\n 'game_infoKR_6402046967.json',\n 'game_infoKR_6402052795.json',\n 'game_infoKR_6402056358.json',\n 'game_infoKR_6402071865.json',\n 'game_infoKR_6402095727.json',\n 'game_infoKR_6402107113.json',\n 'game_infoKR_6402116854.json',\n 'game_infoKR_6402117286.json',\n 'game_infoKR_6402120228.json',\n 'game_infoKR_6402121237.json',\n 'game_infoKR_6402161251.json',\n 'game_infoKR_6402161792.json',\n 'game_infoKR_6402165149.json',\n 'game_infoKR_6402172131.json',\n 'game_infoKR_6402179378.json',\n 'game_infoKR_6402187856.json',\n 'game_infoKR_6402220367.json',\n 'game_infoKR_6402220680.json',\n 'game_infoKR_6402226592.json',\n 'game_infoKR_6402241728.json',\n 'game_infoKR_6402248753.json',\n 'game_infoKR_6402253095.json',\n 'game_infoKR_6402263013.json',\n 'game_infoKR_6402298469.json',\n 'game_infoKR_6402301577.json',\n 'game_infoKR_6402307037.json',\n 'game_infoKR_6402355159.json',\n 'game_infoKR_6402365075.json',\n 'game_infoKR_6402422153.json',\n 'game_infoKR_6402430420.json',\n 'game_infoKR_6402440080.json',\n 'game_infoKR_6402492073.json',\n 'game_infoKR_6402524677.json',\n 'game_infoKR_6402530063.json',\n 'game_infoKR_6402533013.json',\n 'game_infoKR_6402540613.json',\n 'game_infoKR_6402582727.json',\n 'game_infoKR_6402589942.json',\n 'game_infoKR_6402596256.json',\n 'game_infoKR_6402596984.json',\n 'game_infoKR_6402626944.json',\n 'game_infoKR_6402635765.json',\n 'game_infoKR_6402638968.json',\n 'game_infoKR_6402639911.json',\n 'game_infoKR_6402745050.json',\n 'game_infoKR_6402783401.json',\n 'game_infoKR_6402817446.json',\n 'game_infoKR_6402846122.json',\n 'game_infoKR_6402858300.json',\n 'game_infoKR_6402872452.json',\n 'game_infoKR_6402948383.json',\n 'game_infoKR_6402970364.json',\n 'game_infoKR_6402983921.json',\n 'game_infoKR_6403013203.json',\n 'game_infoKR_6403077484.json',\n 'game_infoKR_6403084175.json',\n 'game_infoKR_6403133591.json',\n 'game_infoKR_6403173937.json',\n 'game_infoKR_6403224622.json',\n 'game_infoKR_6403305110.json',\n 'game_infoKR_6403316293.json',\n 'game_infoKR_6403318440.json',\n 'game_infoKR_6403329800.json',\n 'game_infoKR_6403358013.json',\n 'game_infoKR_6403371722.json',\n 'game_infoKR_6403375579.json',\n 'game_infoKR_6403376129.json',\n 'game_infoKR_6403416563.json',\n 'game_infoKR_6403421142.json',\n 'game_infoKR_6403424508.json',\n 'game_infoKR_6403428327.json',\n 'game_infoKR_6403433219.json',\n 'game_infoKR_6403455209.json',\n 'game_infoKR_6403456874.json',\n 'game_infoKR_6403461024.json',\n 'game_infoKR_6403477766.json',\n 'game_infoKR_6403483860.json',\n 'game_infoKR_6403508491.json',\n 'game_infoKR_6403528138.json',\n 'game_infoKR_6403530364.json',\n 'game_infoKR_6403542726.json',\n 'game_infoKR_6403599134.json',\n 'game_infoKR_6403627880.json',\n 'game_infoKR_6403630360.json',\n 'game_infoKR_6403645383.json',\n 'game_infoKR_6403659350.json',\n 'game_infoKR_6403675772.json',\n 'game_infoKR_6403687066.json',\n 'game_infoKR_6403694390.json',\n 'game_infoKR_6403708735.json',\n 'game_infoKR_6403729286.json',\n 'game_infoKR_6403730262.json',\n 'game_infoKR_6403734607.json',\n 'game_infoKR_6403742603.json',\n 'game_infoKR_6403752474.json',\n 'game_infoKR_6403759036.json',\n 'game_infoKR_6403765453.json',\n 'game_infoKR_6403765767.json',\n 'game_infoKR_6403768101.json',\n 'game_infoKR_6403775041.json',\n 'game_infoKR_6403799677.json',\n 'game_infoKR_6403825174.json',\n 'game_infoKR_6403827552.json',\n 'game_infoKR_6403853478.json',\n 'game_infoKR_6403857239.json',\n 'game_infoKR_6403859270.json',\n 'game_infoKR_6403888591.json',\n 'game_infoKR_6403931494.json',\n 'game_infoKR_6403936083.json',\n 'game_infoKR_6403941441.json',\n 'game_infoKR_6403953139.json',\n 'game_infoKR_6403979053.json',\n 'game_infoKR_6403994232.json',\n 'game_infoKR_6403996287.json',\n 'game_infoKR_6403997165.json',\n 'game_infoKR_6404006779.json',\n 'game_infoKR_6404026197.json',\n 'game_infoKR_6404036757.json',\n 'game_infoKR_6404048898.json',\n 'game_infoKR_6404066384.json',\n 'game_infoKR_6404068000.json',\n 'game_infoKR_6404097082.json',\n 'game_infoKR_6404121191.json',\n 'game_infoKR_6404122027.json',\n 'game_infoKR_6404125642.json',\n 'game_infoKR_6404157587.json',\n 'game_infoKR_6404176746.json',\n 'game_infoKR_6404192367.json',\n 'game_infoKR_6404197007.json',\n 'game_infoKR_6404216580.json',\n 'game_infoKR_6404222879.json',\n 'game_infoKR_6404235281.json',\n 'game_infoKR_6404242108.json',\n ...]"
     },
     "execution_count": 29,
     "metadata": {},
     "output_type": "execute_result"
    }
   ],
   "source": [
    "file_list_py"
   ]
  },
  {
   "cell_type": "code",
   "execution_count": 31,
   "id": "08b763a8",
   "metadata": {
    "pycharm": {
     "name": "#%%\n"
    }
   },
   "outputs": [
    {
     "name": "stderr",
     "output_type": "stream",
     "text": [
      "100%|██████████| 70318/70318 [43:13<00:00, 27.11it/s]\n"
     ]
    }
   ],
   "source": [
    "all_champ_data = pd.DataFrame()\n",
    "for fpath in tqdm(file_list_py):\n",
    "    with open (\"gameinfo/\"+fpath, \"r\", encoding=\"utf-8-sig\") as json_file:\n",
    "        jdata = json.load(json_file)\n",
    "    jArray = jdata.get(\"info\").get(\"participants\")\n",
    "    one_game_data = pd.DataFrame()\n",
    "    for i in jArray:\n",
    "        champ_data = pd.DataFrame()\n",
    "        Position = i.get(\"individualPosition\")\n",
    "        Champ_Name = i.get(\"championName\")\n",
    "        Champ_ID = i.get(\"championId\")\n",
    "        item0 = i.get(\"item0\")\n",
    "        item1 = i.get(\"item1\")\n",
    "        item2 = i.get(\"item2\")\n",
    "        item3 = i.get(\"item3\")\n",
    "        item4 = i.get(\"item4\")\n",
    "        item5 = i.get(\"item5\")\n",
    "        item6 = i.get(\"item6\")\n",
    "        win = i.get(\"win\")\n",
    "        champ_data[\"Position\"] = [Position]\n",
    "        champ_data[\"Champ_Name\"] = [Champ_Name]\n",
    "        champ_data[\"Champ_ID\"] = [Champ_ID]\n",
    "        champ_data[\"item0\"] = [item0]\n",
    "        champ_data[\"item1\"] = [item1]\n",
    "        champ_data[\"item2\"] = [item2]\n",
    "        champ_data[\"item3\"] = [item3]\n",
    "        champ_data[\"item4\"] = [item4]\n",
    "        champ_data[\"item5\"] = [item5]\n",
    "        champ_data[\"item6\"] = [item6]\n",
    "        champ_data[\"win\"] = [win]\n",
    "        \n",
    "        one_game_data = one_game_data.append(champ_data)\n",
    "\n",
    "    temp_df = one_game_data[['Champ_ID']].iloc[5:10]\n",
    "    temp_df = temp_df.append(one_game_data[['Champ_ID']].iloc[0:5])\n",
    "    one_game_data['vs']= temp_df\n",
    "    all_champ_data = all_champ_data.append(one_game_data)"
   ]
  },
  {
   "cell_type": "code",
   "execution_count": 32,
   "id": "df26297c",
   "metadata": {
    "scrolled": true,
    "pycharm": {
     "name": "#%%\n"
    }
   },
   "outputs": [],
   "source": [
    "all_champ_data = all_champ_data.reset_index()"
   ]
  },
  {
   "cell_type": "code",
   "execution_count": 33,
   "id": "9a155768",
   "metadata": {
    "scrolled": true,
    "pycharm": {
     "name": "#%%\n"
    }
   },
   "outputs": [],
   "source": [
    "all_champ_data = all_champ_data.drop('index',axis = 1)"
   ]
  },
  {
   "cell_type": "code",
   "execution_count": 34,
   "id": "bedd6e14",
   "metadata": {
    "pycharm": {
     "name": "#%%\n"
    }
   },
   "outputs": [
    {
     "data": {
      "text/plain": "       Position Champ_Name  Champ_ID  item0  item1  item2  item3  item4  \\\n0           TOP   Malphite        54   2033   8020   3111   4401   3105   \n1        JUNGLE      Elise        60      0   3157      0   4636   3111   \n2        BOTTOM       Jhin       202   1018   6671   3035   3156   6676   \n3        MIDDLE     Irelia        39   3155   3133   3091   3111   3153   \n4       UTILITY       Zyra       143   3116   3853   2055   3916   1052   \n...         ...        ...       ...    ...    ...    ...    ...    ...   \n703175      TOP     Darius       122   3047   2031   3067      0   3051   \n703176   JUNGLE         Vi       254   6632   3133   2055   1103   3047   \n703177   MIDDLE     Viktor       112   2031      0      0   6655   1056   \n703178   BOTTOM      Xayah       498   1055   6671   2422   3133   1042   \n703179  UTILITY      Rakan       497   3859   2055   4642   3158   3067   \n\n        item5  item6    win   vs  \n0        6662   3364  False  164  \n1        3102   3364  False   72  \n2        3111   3363  False  112  \n3        6665   3340  False  161  \n4        3111   3364  False  101  \n...       ...    ...    ...  ...  \n703175   1054   3340  False  126  \n703176      0   3364  False  107  \n703177   3111   3340  False  103  \n703178      0   3340  False  119  \n703179      0   3364  False  412  \n\n[703180 rows x 12 columns]",
      "text/html": "<div>\n<style scoped>\n    .dataframe tbody tr th:only-of-type {\n        vertical-align: middle;\n    }\n\n    .dataframe tbody tr th {\n        vertical-align: top;\n    }\n\n    .dataframe thead th {\n        text-align: right;\n    }\n</style>\n<table border=\"1\" class=\"dataframe\">\n  <thead>\n    <tr style=\"text-align: right;\">\n      <th></th>\n      <th>Position</th>\n      <th>Champ_Name</th>\n      <th>Champ_ID</th>\n      <th>item0</th>\n      <th>item1</th>\n      <th>item2</th>\n      <th>item3</th>\n      <th>item4</th>\n      <th>item5</th>\n      <th>item6</th>\n      <th>win</th>\n      <th>vs</th>\n    </tr>\n  </thead>\n  <tbody>\n    <tr>\n      <th>0</th>\n      <td>TOP</td>\n      <td>Malphite</td>\n      <td>54</td>\n      <td>2033</td>\n      <td>8020</td>\n      <td>3111</td>\n      <td>4401</td>\n      <td>3105</td>\n      <td>6662</td>\n      <td>3364</td>\n      <td>False</td>\n      <td>164</td>\n    </tr>\n    <tr>\n      <th>1</th>\n      <td>JUNGLE</td>\n      <td>Elise</td>\n      <td>60</td>\n      <td>0</td>\n      <td>3157</td>\n      <td>0</td>\n      <td>4636</td>\n      <td>3111</td>\n      <td>3102</td>\n      <td>3364</td>\n      <td>False</td>\n      <td>72</td>\n    </tr>\n    <tr>\n      <th>2</th>\n      <td>BOTTOM</td>\n      <td>Jhin</td>\n      <td>202</td>\n      <td>1018</td>\n      <td>6671</td>\n      <td>3035</td>\n      <td>3156</td>\n      <td>6676</td>\n      <td>3111</td>\n      <td>3363</td>\n      <td>False</td>\n      <td>112</td>\n    </tr>\n    <tr>\n      <th>3</th>\n      <td>MIDDLE</td>\n      <td>Irelia</td>\n      <td>39</td>\n      <td>3155</td>\n      <td>3133</td>\n      <td>3091</td>\n      <td>3111</td>\n      <td>3153</td>\n      <td>6665</td>\n      <td>3340</td>\n      <td>False</td>\n      <td>161</td>\n    </tr>\n    <tr>\n      <th>4</th>\n      <td>UTILITY</td>\n      <td>Zyra</td>\n      <td>143</td>\n      <td>3116</td>\n      <td>3853</td>\n      <td>2055</td>\n      <td>3916</td>\n      <td>1052</td>\n      <td>3111</td>\n      <td>3364</td>\n      <td>False</td>\n      <td>101</td>\n    </tr>\n    <tr>\n      <th>...</th>\n      <td>...</td>\n      <td>...</td>\n      <td>...</td>\n      <td>...</td>\n      <td>...</td>\n      <td>...</td>\n      <td>...</td>\n      <td>...</td>\n      <td>...</td>\n      <td>...</td>\n      <td>...</td>\n      <td>...</td>\n    </tr>\n    <tr>\n      <th>703175</th>\n      <td>TOP</td>\n      <td>Darius</td>\n      <td>122</td>\n      <td>3047</td>\n      <td>2031</td>\n      <td>3067</td>\n      <td>0</td>\n      <td>3051</td>\n      <td>1054</td>\n      <td>3340</td>\n      <td>False</td>\n      <td>126</td>\n    </tr>\n    <tr>\n      <th>703176</th>\n      <td>JUNGLE</td>\n      <td>Vi</td>\n      <td>254</td>\n      <td>6632</td>\n      <td>3133</td>\n      <td>2055</td>\n      <td>1103</td>\n      <td>3047</td>\n      <td>0</td>\n      <td>3364</td>\n      <td>False</td>\n      <td>107</td>\n    </tr>\n    <tr>\n      <th>703177</th>\n      <td>MIDDLE</td>\n      <td>Viktor</td>\n      <td>112</td>\n      <td>2031</td>\n      <td>0</td>\n      <td>0</td>\n      <td>6655</td>\n      <td>1056</td>\n      <td>3111</td>\n      <td>3340</td>\n      <td>False</td>\n      <td>103</td>\n    </tr>\n    <tr>\n      <th>703178</th>\n      <td>BOTTOM</td>\n      <td>Xayah</td>\n      <td>498</td>\n      <td>1055</td>\n      <td>6671</td>\n      <td>2422</td>\n      <td>3133</td>\n      <td>1042</td>\n      <td>0</td>\n      <td>3340</td>\n      <td>False</td>\n      <td>119</td>\n    </tr>\n    <tr>\n      <th>703179</th>\n      <td>UTILITY</td>\n      <td>Rakan</td>\n      <td>497</td>\n      <td>3859</td>\n      <td>2055</td>\n      <td>4642</td>\n      <td>3158</td>\n      <td>3067</td>\n      <td>0</td>\n      <td>3364</td>\n      <td>False</td>\n      <td>412</td>\n    </tr>\n  </tbody>\n</table>\n<p>703180 rows × 12 columns</p>\n</div>"
     },
     "execution_count": 34,
     "metadata": {},
     "output_type": "execute_result"
    }
   ],
   "source": [
    "all_champ_data"
   ]
  },
  {
   "cell_type": "code",
   "execution_count": 35,
   "id": "f2a2bd3e",
   "metadata": {
    "pycharm": {
     "name": "#%%\n"
    }
   },
   "outputs": [],
   "source": [
    "all_champ_data.to_csv(\"game_data.csv\")"
   ]
  },
  {
   "cell_type": "code",
   "execution_count": null,
   "id": "3576c51f",
   "metadata": {
    "pycharm": {
     "name": "#%%\n"
    }
   },
   "outputs": [],
   "source": []
  }
 ],
 "metadata": {
  "kernelspec": {
   "display_name": "Python 3 (ipykernel)",
   "language": "python",
   "name": "python3"
  },
  "language_info": {
   "codemirror_mode": {
    "name": "ipython",
    "version": 3
   },
   "file_extension": ".py",
   "mimetype": "text/x-python",
   "name": "python",
   "nbconvert_exporter": "python",
   "pygments_lexer": "ipython3",
   "version": "3.9.12"
  }
 },
 "nbformat": 4,
 "nbformat_minor": 5
}